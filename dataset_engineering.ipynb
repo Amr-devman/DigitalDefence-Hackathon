{
 "metadata": {
  "language_info": {
   "codemirror_mode": {
    "name": "ipython",
    "version": 3
   },
   "file_extension": ".py",
   "mimetype": "text/x-python",
   "name": "python",
   "nbconvert_exporter": "python",
   "pygments_lexer": "ipython3",
   "version": "3.6.9-final"
  },
  "orig_nbformat": 2,
  "kernelspec": {
   "name": "python3",
   "display_name": "Python 3"
  }
 },
 "nbformat": 4,
 "nbformat_minor": 2,
 "cells": [
  {
   "cell_type": "code",
   "execution_count": 2,
   "metadata": {},
   "outputs": [],
   "source": [
    "import pandas as pd \n",
    "import numpy as np \n",
    "import seaborn as sns\n",
    "import matplotlib.pyplot as plt\n",
    "from scipy.stats import zscore\n"
   ]
  },
  {
   "cell_type": "code",
   "execution_count": 3,
   "metadata": {},
   "outputs": [],
   "source": [
    "faccount_df = pd.read_csv(\"./dataset/faccount.txt\")\n",
    "ftxn2_df = pd.read_csv(\"./dataset/ftxn2.txt\")"
   ]
  },
  {
   "cell_type": "code",
   "execution_count": 4,
   "metadata": {},
   "outputs": [
    {
     "output_type": "execute_result",
     "data": {
      "text/plain": [
       "         TXN_ID    TXTYPE  AMOUNT  FROMACCTID  TOACCTID               TXDATE  \\\n",
       "0  950060711303   PAYMENT     320      500607    800242  2020-01-22T17:00:00   \n",
       "1  950060711401   PAYMENT      48      500607    800111  2020-01-23T08:00:00   \n",
       "2  950060711402  TRANSFER    6209      500607    500929  2020-01-23T13:00:00   \n",
       "3  950060711403   PAYMENT      66      500607    800252  2020-01-23T17:00:00   \n",
       "4  950060711501   PAYMENT      47      500607    800116  2020-01-24T08:00:00   \n",
       "\n",
       "               REFERENCE ISFRAUD ISFLAGGED  \n",
       "0      Dinner with Shane       N         Y  \n",
       "1  Breakfast with Steven       N         Y  \n",
       "2           Holiday Cost       N         Y  \n",
       "3         Meal with Mary       N         Y  \n",
       "4      Coffee with Brian       N         Y  "
      ],
      "text/html": "<div>\n<style scoped>\n    .dataframe tbody tr th:only-of-type {\n        vertical-align: middle;\n    }\n\n    .dataframe tbody tr th {\n        vertical-align: top;\n    }\n\n    .dataframe thead th {\n        text-align: right;\n    }\n</style>\n<table border=\"1\" class=\"dataframe\">\n  <thead>\n    <tr style=\"text-align: right;\">\n      <th></th>\n      <th>TXN_ID</th>\n      <th>TXTYPE</th>\n      <th>AMOUNT</th>\n      <th>FROMACCTID</th>\n      <th>TOACCTID</th>\n      <th>TXDATE</th>\n      <th>REFERENCE</th>\n      <th>ISFRAUD</th>\n      <th>ISFLAGGED</th>\n    </tr>\n  </thead>\n  <tbody>\n    <tr>\n      <th>0</th>\n      <td>950060711303</td>\n      <td>PAYMENT</td>\n      <td>320</td>\n      <td>500607</td>\n      <td>800242</td>\n      <td>2020-01-22T17:00:00</td>\n      <td>Dinner with Shane</td>\n      <td>N</td>\n      <td>Y</td>\n    </tr>\n    <tr>\n      <th>1</th>\n      <td>950060711401</td>\n      <td>PAYMENT</td>\n      <td>48</td>\n      <td>500607</td>\n      <td>800111</td>\n      <td>2020-01-23T08:00:00</td>\n      <td>Breakfast with Steven</td>\n      <td>N</td>\n      <td>Y</td>\n    </tr>\n    <tr>\n      <th>2</th>\n      <td>950060711402</td>\n      <td>TRANSFER</td>\n      <td>6209</td>\n      <td>500607</td>\n      <td>500929</td>\n      <td>2020-01-23T13:00:00</td>\n      <td>Holiday Cost</td>\n      <td>N</td>\n      <td>Y</td>\n    </tr>\n    <tr>\n      <th>3</th>\n      <td>950060711403</td>\n      <td>PAYMENT</td>\n      <td>66</td>\n      <td>500607</td>\n      <td>800252</td>\n      <td>2020-01-23T17:00:00</td>\n      <td>Meal with Mary</td>\n      <td>N</td>\n      <td>Y</td>\n    </tr>\n    <tr>\n      <th>4</th>\n      <td>950060711501</td>\n      <td>PAYMENT</td>\n      <td>47</td>\n      <td>500607</td>\n      <td>800116</td>\n      <td>2020-01-24T08:00:00</td>\n      <td>Coffee with Brian</td>\n      <td>N</td>\n      <td>Y</td>\n    </tr>\n  </tbody>\n</table>\n</div>"
     },
     "metadata": {},
     "execution_count": 4
    }
   ],
   "source": [
    "ftxn2_df.head()"
   ]
  },
  {
   "cell_type": "code",
   "execution_count": 5,
   "metadata": {},
   "outputs": [
    {
     "output_type": "stream",
     "name": "stdout",
     "text": [
      "Index(['ACCTID', 'ACCTTYPE', 'ACCTNAME', 'FIRSTNAME', 'SURNAME', 'DOB',\n       'ACCTCREATED', 'ACCTRISK', 'ADDRESS', 'ADDRESS_LAT', 'ADDRESS_LON',\n       'CATEGORY'],\n      dtype='object')\nIndex(['TXN_ID', 'TXTYPE', 'AMOUNT', 'FROMACCTID', 'TOACCTID', 'TXDATE',\n       'REFERENCE', 'ISFRAUD', 'ISFLAGGED'],\n      dtype='object')\n"
     ]
    }
   ],
   "source": [
    "print(faccount_df.columns)\n",
    "print(ftxn2_df.columns)"
   ]
  },
  {
   "source": [
    "#account types\n",
    "print(faccount_df[\"ACCTTYPE\"].unique())\n",
    "\n",
    "#account categories\n",
    "print(faccount_df[\"CATEGORY\"].unique())\n"
   ],
   "cell_type": "code",
   "metadata": {},
   "execution_count": 6,
   "outputs": [
    {
     "output_type": "stream",
     "name": "stdout",
     "text": [
      "['BUSINESS' 'CREDIT' 'MAXI-SAVER' 'SAVINGS']\n['Supermarket' 'Grocery' 'Cafe' 'Bakery' 'Hotel' 'Restaurant' 'Builders'\n 'Lawyers' 'Crash Repairs' 'Apparel' 'Smallgoods' 'Property' 'Cleaning'\n 'Gardening' 'Electrical' 'Wholesale' 'Events' 'Computers' 'Clinic'\n 'Winery' 'Roasters' 'Pottery' 'Therapeutics' 'Fitness' 'Physiotherapy'\n 'Beauty' 'Podiatry' 'Florist' 'Finance' 'Sports' 'Brewery' 'Used Cars'\n 'Garage' 'Pharmacy' 'Butcher' 'Consulting' 'Distillery' 'Cheeses'\n 'Management' 'Services' 'Childcare' 'Digital' 'Accounting' 'Salamis'\n 'Trading' 'Music' 'CUSTOMER']\n"
     ]
    }
   ]
  },
  {
   "cell_type": "code",
   "execution_count": 7,
   "metadata": {},
   "outputs": [
    {
     "output_type": "execute_result",
     "data": {
      "text/plain": [
       "     ACCTID         FULLNAME  ACCTTYPE  CATEGORY  same_person_count\n",
       "280  800242  Taylor Marshall         1        35                  1"
      ],
      "text/html": "<div>\n<style scoped>\n    .dataframe tbody tr th:only-of-type {\n        vertical-align: middle;\n    }\n\n    .dataframe tbody tr th {\n        vertical-align: top;\n    }\n\n    .dataframe thead th {\n        text-align: right;\n    }\n</style>\n<table border=\"1\" class=\"dataframe\">\n  <thead>\n    <tr style=\"text-align: right;\">\n      <th></th>\n      <th>ACCTID</th>\n      <th>FULLNAME</th>\n      <th>ACCTTYPE</th>\n      <th>CATEGORY</th>\n      <th>same_person_count</th>\n    </tr>\n  </thead>\n  <tbody>\n    <tr>\n      <th>280</th>\n      <td>800242</td>\n      <td>Taylor Marshall</td>\n      <td>1</td>\n      <td>35</td>\n      <td>1</td>\n    </tr>\n  </tbody>\n</table>\n</div>"
     },
     "metadata": {},
     "execution_count": 7
    }
   ],
   "source": [
    "faccount_engineered = pd.DataFrame([])\n",
    "\n",
    "faccount_engineered['ACCTID'] = faccount_df['ACCTID']\n",
    "\n",
    "#add the person's full name \n",
    "faccount_engineered['FULLNAME'] = faccount_df['FIRSTNAME']+\" \"+faccount_df['SURNAME']\n",
    "\n",
    "#add account type id, id generated by the order of unique accttypes\n",
    "accttype = faccount_df[\"ACCTTYPE\"].unique()\n",
    "categorytype = faccount_df[\"CATEGORY\"].unique()\n",
    "\n",
    "def return_id(dataframe, array_to_search):\n",
    "   return np.where(dataframe==array_to_search)\n",
    "\n",
    "faccount_engineered['ACCTTYPE'] = faccount_df[\"ACCTTYPE\"].astype('category').cat.codes\n",
    "\n",
    "faccount_engineered['CATEGORY'] = faccount_df[\"CATEGORY\"].astype('category').cat.codes\n",
    "\n",
    "\n",
    "#count the number of time a person created an account\n",
    "faccount_engineered['same_person_count'] = faccount_engineered.groupby('FULLNAME')['FULLNAME'].transform('count')\n",
    "\n",
    "faccount_engineered[faccount_engineered['ACCTID']==800242].head()\n"
   ]
  },
  {
   "cell_type": "code",
   "execution_count": 17,
   "metadata": {
    "tags": []
   },
   "outputs": [
    {
     "output_type": "execute_result",
     "data": {
      "text/plain": [
       "   TXTYPE  AMOUNT  FROMACCTID  TOACCTID  ACCTTYPEFROM  CATEGORYFROM  \\\n",
       "0       0     320      500607    800242             2             7   \n",
       "1       0     187      500607    800242             2             7   \n",
       "2       0     230      500607    800242             2             7   \n",
       "3       0     166      500607    800242             2             7   \n",
       "4       0     487      500607    800242             2             7   \n",
       "\n",
       "   same_person_count_x  ACCTTYPETO  CATEGORYTO  same_person_count_y  \\\n",
       "0                    1           1          35                    1   \n",
       "1                    1           1          35                    1   \n",
       "2                    1           1          35                    1   \n",
       "3                    1           1          35                    1   \n",
       "4                    1           1          35                    1   \n",
       "\n",
       "      timestamp  \n",
       "0  1.579712e+09  \n",
       "1  1.590772e+09  \n",
       "2  1.571504e+09  \n",
       "3  1.573751e+09  \n",
       "4  1.575565e+09  "
      ],
      "text/html": "<div>\n<style scoped>\n    .dataframe tbody tr th:only-of-type {\n        vertical-align: middle;\n    }\n\n    .dataframe tbody tr th {\n        vertical-align: top;\n    }\n\n    .dataframe thead th {\n        text-align: right;\n    }\n</style>\n<table border=\"1\" class=\"dataframe\">\n  <thead>\n    <tr style=\"text-align: right;\">\n      <th></th>\n      <th>TXTYPE</th>\n      <th>AMOUNT</th>\n      <th>FROMACCTID</th>\n      <th>TOACCTID</th>\n      <th>ACCTTYPEFROM</th>\n      <th>CATEGORYFROM</th>\n      <th>same_person_count_x</th>\n      <th>ACCTTYPETO</th>\n      <th>CATEGORYTO</th>\n      <th>same_person_count_y</th>\n      <th>timestamp</th>\n    </tr>\n  </thead>\n  <tbody>\n    <tr>\n      <th>0</th>\n      <td>0</td>\n      <td>320</td>\n      <td>500607</td>\n      <td>800242</td>\n      <td>2</td>\n      <td>7</td>\n      <td>1</td>\n      <td>1</td>\n      <td>35</td>\n      <td>1</td>\n      <td>1.579712e+09</td>\n    </tr>\n    <tr>\n      <th>1</th>\n      <td>0</td>\n      <td>187</td>\n      <td>500607</td>\n      <td>800242</td>\n      <td>2</td>\n      <td>7</td>\n      <td>1</td>\n      <td>1</td>\n      <td>35</td>\n      <td>1</td>\n      <td>1.590772e+09</td>\n    </tr>\n    <tr>\n      <th>2</th>\n      <td>0</td>\n      <td>230</td>\n      <td>500607</td>\n      <td>800242</td>\n      <td>2</td>\n      <td>7</td>\n      <td>1</td>\n      <td>1</td>\n      <td>35</td>\n      <td>1</td>\n      <td>1.571504e+09</td>\n    </tr>\n    <tr>\n      <th>3</th>\n      <td>0</td>\n      <td>166</td>\n      <td>500607</td>\n      <td>800242</td>\n      <td>2</td>\n      <td>7</td>\n      <td>1</td>\n      <td>1</td>\n      <td>35</td>\n      <td>1</td>\n      <td>1.573751e+09</td>\n    </tr>\n    <tr>\n      <th>4</th>\n      <td>0</td>\n      <td>487</td>\n      <td>500607</td>\n      <td>800242</td>\n      <td>2</td>\n      <td>7</td>\n      <td>1</td>\n      <td>1</td>\n      <td>35</td>\n      <td>1</td>\n      <td>1.575565e+09</td>\n    </tr>\n  </tbody>\n</table>\n</div>"
     },
     "metadata": {},
     "execution_count": 17
    }
   ],
   "source": [
    "from datetime import datetime\n",
    "\n",
    "joined_features = ftxn2_df.merge(faccount_engineered, left_on='FROMACCTID', right_on='ACCTID')\n",
    "\n",
    "joined_features = joined_features.drop(columns=['ISFRAUD', 'ISFLAGGED', 'ACCTID', 'FULLNAME'])\n",
    "\n",
    "joined_features = joined_features.rename(columns={'ACCTTYPE':'ACCTTYPEFROM', 'CATEGORY':'CATEGORYFROM'})\n",
    "\n",
    "joined_features = joined_features.merge(faccount_engineered, left_on='TOACCTID', right_on='ACCTID')\n",
    "\n",
    "joined_features = joined_features.drop(columns=['ACCTID', 'FULLNAME'])\n",
    "\n",
    "joined_features = joined_features.rename(columns={'ACCTTYPE':'ACCTTYPETO', 'CATEGORY':'CATEGORYTO'})\n",
    "\n",
    "joined_features['TXTYPE'] = joined_features[\"TXTYPE\"].astype('category').cat.codes\n",
    "\n",
    "joined_features = joined_features.drop(columns=['TXN_ID', 'REFERENCE'])\n",
    "\n",
    "\n",
    "def reformat_datetime(datetime_str):\n",
    "    timestamp_str = datetime_str.replace('T', ' ')\n",
    "    timestamp_datetime = datetime.strptime(timestamp_str, '%Y-%m-%d %H:%M:%S')\n",
    "    timestamp_unix = timestamp_datetime.timestamp()\n",
    "\n",
    "    return timestamp_unix\n",
    "\n",
    "joined_features['timestamp'] = np.vectorize(reformat_datetime)(joined_features['TXDATE'])\n",
    "\n",
    "joined_features = joined_features.drop(columns=['TXDATE'])\n",
    "\n",
    "joined_features.head()"
   ]
  },
  {
   "cell_type": "code",
   "execution_count": 21,
   "metadata": {},
   "outputs": [
    {
     "output_type": "execute_result",
     "data": {
      "text/plain": [
       "   TXTYPE  AMOUNT  FROMACCTID  TOACCTID  ACCTTYPEFROM  CATEGORYFROM  \\\n",
       "0       0     320      500607    800242             2             7   \n",
       "1       0     187      500607    800242             2             7   \n",
       "2       0     230      500607    800242             2             7   \n",
       "3       0     166      500607    800242             2             7   \n",
       "4       0     487      500607    800242             2             7   \n",
       "5       0     342      500607    800242             2             7   \n",
       "6       0     164      500606    800242             1             7   \n",
       "7       0     155      500606    800242             1             7   \n",
       "8       0     459      500606    800242             1             7   \n",
       "9       0     125      500604    800242             0             7   \n",
       "\n",
       "   same_person_count_x  ACCTTYPETO  CATEGORYTO  same_person_count_y  \\\n",
       "0                    1           1          35                    1   \n",
       "1                    1           1          35                    1   \n",
       "2                    1           1          35                    1   \n",
       "3                    1           1          35                    1   \n",
       "4                    1           1          35                    1   \n",
       "5                    1           1          35                    1   \n",
       "6                    1           1          35                    1   \n",
       "7                    1           1          35                    1   \n",
       "8                    1           1          35                    1   \n",
       "9                    1           1          35                    1   \n",
       "\n",
       "   timestamp_normed  \n",
       "0          0.308405  \n",
       "1          0.659691  \n",
       "2          0.047684  \n",
       "3          0.119039  \n",
       "4          0.176672  \n",
       "5          0.209605  \n",
       "6          0.415437  \n",
       "7          0.486792  \n",
       "8          0.187650  \n",
       "9          0.250772  "
      ],
      "text/html": "<div>\n<style scoped>\n    .dataframe tbody tr th:only-of-type {\n        vertical-align: middle;\n    }\n\n    .dataframe tbody tr th {\n        vertical-align: top;\n    }\n\n    .dataframe thead th {\n        text-align: right;\n    }\n</style>\n<table border=\"1\" class=\"dataframe\">\n  <thead>\n    <tr style=\"text-align: right;\">\n      <th></th>\n      <th>TXTYPE</th>\n      <th>AMOUNT</th>\n      <th>FROMACCTID</th>\n      <th>TOACCTID</th>\n      <th>ACCTTYPEFROM</th>\n      <th>CATEGORYFROM</th>\n      <th>same_person_count_x</th>\n      <th>ACCTTYPETO</th>\n      <th>CATEGORYTO</th>\n      <th>same_person_count_y</th>\n      <th>timestamp_normed</th>\n    </tr>\n  </thead>\n  <tbody>\n    <tr>\n      <th>0</th>\n      <td>0</td>\n      <td>320</td>\n      <td>500607</td>\n      <td>800242</td>\n      <td>2</td>\n      <td>7</td>\n      <td>1</td>\n      <td>1</td>\n      <td>35</td>\n      <td>1</td>\n      <td>0.308405</td>\n    </tr>\n    <tr>\n      <th>1</th>\n      <td>0</td>\n      <td>187</td>\n      <td>500607</td>\n      <td>800242</td>\n      <td>2</td>\n      <td>7</td>\n      <td>1</td>\n      <td>1</td>\n      <td>35</td>\n      <td>1</td>\n      <td>0.659691</td>\n    </tr>\n    <tr>\n      <th>2</th>\n      <td>0</td>\n      <td>230</td>\n      <td>500607</td>\n      <td>800242</td>\n      <td>2</td>\n      <td>7</td>\n      <td>1</td>\n      <td>1</td>\n      <td>35</td>\n      <td>1</td>\n      <td>0.047684</td>\n    </tr>\n    <tr>\n      <th>3</th>\n      <td>0</td>\n      <td>166</td>\n      <td>500607</td>\n      <td>800242</td>\n      <td>2</td>\n      <td>7</td>\n      <td>1</td>\n      <td>1</td>\n      <td>35</td>\n      <td>1</td>\n      <td>0.119039</td>\n    </tr>\n    <tr>\n      <th>4</th>\n      <td>0</td>\n      <td>487</td>\n      <td>500607</td>\n      <td>800242</td>\n      <td>2</td>\n      <td>7</td>\n      <td>1</td>\n      <td>1</td>\n      <td>35</td>\n      <td>1</td>\n      <td>0.176672</td>\n    </tr>\n    <tr>\n      <th>5</th>\n      <td>0</td>\n      <td>342</td>\n      <td>500607</td>\n      <td>800242</td>\n      <td>2</td>\n      <td>7</td>\n      <td>1</td>\n      <td>1</td>\n      <td>35</td>\n      <td>1</td>\n      <td>0.209605</td>\n    </tr>\n    <tr>\n      <th>6</th>\n      <td>0</td>\n      <td>164</td>\n      <td>500606</td>\n      <td>800242</td>\n      <td>1</td>\n      <td>7</td>\n      <td>1</td>\n      <td>1</td>\n      <td>35</td>\n      <td>1</td>\n      <td>0.415437</td>\n    </tr>\n    <tr>\n      <th>7</th>\n      <td>0</td>\n      <td>155</td>\n      <td>500606</td>\n      <td>800242</td>\n      <td>1</td>\n      <td>7</td>\n      <td>1</td>\n      <td>1</td>\n      <td>35</td>\n      <td>1</td>\n      <td>0.486792</td>\n    </tr>\n    <tr>\n      <th>8</th>\n      <td>0</td>\n      <td>459</td>\n      <td>500606</td>\n      <td>800242</td>\n      <td>1</td>\n      <td>7</td>\n      <td>1</td>\n      <td>1</td>\n      <td>35</td>\n      <td>1</td>\n      <td>0.187650</td>\n    </tr>\n    <tr>\n      <th>9</th>\n      <td>0</td>\n      <td>125</td>\n      <td>500604</td>\n      <td>800242</td>\n      <td>0</td>\n      <td>7</td>\n      <td>1</td>\n      <td>1</td>\n      <td>35</td>\n      <td>1</td>\n      <td>0.250772</td>\n    </tr>\n  </tbody>\n</table>\n</div>"
     },
     "metadata": {},
     "execution_count": 21
    }
   ],
   "source": [
    "from sklearn import preprocessing\n",
    "\n",
    "min_max_scaler = preprocessing.MinMaxScaler()\n",
    "\n",
    "timestamp_vals = joined_features['timestamp'].values.reshape(-1,1)\n",
    "timestamp_scaled = min_max_scaler.fit_transform(timestamp_vals)\n",
    "joined_features['timestamp_normed'] = timestamp_scaled[:,0]\n",
    "\n",
    "\n",
    "final_joined_features = joined_features\n",
    "\n",
    "final_joined_features = final_joined_features.drop(columns=['timestamp'])\n",
    "final_joined_features.head(10)\n",
    "\n"
   ]
  },
  {
   "cell_type": "code",
   "execution_count": 22,
   "metadata": {},
   "outputs": [],
   "source": [
    "final_joined_features.to_csv('./dataset/joined_features.txt', index=False)"
   ]
  },
  {
   "cell_type": "code",
   "execution_count": null,
   "metadata": {},
   "outputs": [],
   "source": []
  }
 ]
}