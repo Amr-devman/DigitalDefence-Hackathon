{
 "metadata": {
  "language_info": {
   "codemirror_mode": {
    "name": "ipython",
    "version": 3
   },
   "file_extension": ".py",
   "mimetype": "text/x-python",
   "name": "python",
   "nbconvert_exporter": "python",
   "pygments_lexer": "ipython3",
   "version": "3.6.9-final"
  },
  "orig_nbformat": 2,
  "kernelspec": {
   "name": "python3",
   "display_name": "Python 3"
  }
 },
 "nbformat": 4,
 "nbformat_minor": 2,
 "cells": [
  {
   "cell_type": "code",
   "execution_count": 8,
   "metadata": {},
   "outputs": [],
   "source": [
    "import pandas as pd \n",
    "import numpy as np \n",
    "import seaborn as sns\n",
    "import matplotlib.pyplot as plt\n",
    "from scipy.stats import zscore\n"
   ]
  },
  {
   "cell_type": "code",
   "execution_count": 9,
   "metadata": {},
   "outputs": [],
   "source": [
    "faccount_df = pd.read_csv(\"./dataset/faccount.txt\")\n",
    "ftxn2_df = pd.read_csv(\"./dataset/ftxn2.txt\")"
   ]
  },
  {
   "cell_type": "code",
   "execution_count": 10,
   "metadata": {},
   "outputs": [
    {
     "output_type": "execute_result",
     "data": {
      "text/plain": [
       "         TXN_ID    TXTYPE  AMOUNT  FROMACCTID  TOACCTID               TXDATE  \\\n",
       "0  950060711303   PAYMENT     320      500607    800242  2020-01-22T17:00:00   \n",
       "1  950060711401   PAYMENT      48      500607    800111  2020-01-23T08:00:00   \n",
       "2  950060711402  TRANSFER    6209      500607    500929  2020-01-23T13:00:00   \n",
       "3  950060711403   PAYMENT      66      500607    800252  2020-01-23T17:00:00   \n",
       "4  950060711501   PAYMENT      47      500607    800116  2020-01-24T08:00:00   \n",
       "\n",
       "               REFERENCE ISFRAUD ISFLAGGED  \n",
       "0      Dinner with Shane       N         Y  \n",
       "1  Breakfast with Steven       N         Y  \n",
       "2           Holiday Cost       N         Y  \n",
       "3         Meal with Mary       N         Y  \n",
       "4      Coffee with Brian       N         Y  "
      ],
      "text/html": "<div>\n<style scoped>\n    .dataframe tbody tr th:only-of-type {\n        vertical-align: middle;\n    }\n\n    .dataframe tbody tr th {\n        vertical-align: top;\n    }\n\n    .dataframe thead th {\n        text-align: right;\n    }\n</style>\n<table border=\"1\" class=\"dataframe\">\n  <thead>\n    <tr style=\"text-align: right;\">\n      <th></th>\n      <th>TXN_ID</th>\n      <th>TXTYPE</th>\n      <th>AMOUNT</th>\n      <th>FROMACCTID</th>\n      <th>TOACCTID</th>\n      <th>TXDATE</th>\n      <th>REFERENCE</th>\n      <th>ISFRAUD</th>\n      <th>ISFLAGGED</th>\n    </tr>\n  </thead>\n  <tbody>\n    <tr>\n      <th>0</th>\n      <td>950060711303</td>\n      <td>PAYMENT</td>\n      <td>320</td>\n      <td>500607</td>\n      <td>800242</td>\n      <td>2020-01-22T17:00:00</td>\n      <td>Dinner with Shane</td>\n      <td>N</td>\n      <td>Y</td>\n    </tr>\n    <tr>\n      <th>1</th>\n      <td>950060711401</td>\n      <td>PAYMENT</td>\n      <td>48</td>\n      <td>500607</td>\n      <td>800111</td>\n      <td>2020-01-23T08:00:00</td>\n      <td>Breakfast with Steven</td>\n      <td>N</td>\n      <td>Y</td>\n    </tr>\n    <tr>\n      <th>2</th>\n      <td>950060711402</td>\n      <td>TRANSFER</td>\n      <td>6209</td>\n      <td>500607</td>\n      <td>500929</td>\n      <td>2020-01-23T13:00:00</td>\n      <td>Holiday Cost</td>\n      <td>N</td>\n      <td>Y</td>\n    </tr>\n    <tr>\n      <th>3</th>\n      <td>950060711403</td>\n      <td>PAYMENT</td>\n      <td>66</td>\n      <td>500607</td>\n      <td>800252</td>\n      <td>2020-01-23T17:00:00</td>\n      <td>Meal with Mary</td>\n      <td>N</td>\n      <td>Y</td>\n    </tr>\n    <tr>\n      <th>4</th>\n      <td>950060711501</td>\n      <td>PAYMENT</td>\n      <td>47</td>\n      <td>500607</td>\n      <td>800116</td>\n      <td>2020-01-24T08:00:00</td>\n      <td>Coffee with Brian</td>\n      <td>N</td>\n      <td>Y</td>\n    </tr>\n  </tbody>\n</table>\n</div>"
     },
     "metadata": {},
     "execution_count": 10
    }
   ],
   "source": [
    "ftxn2_df.head()"
   ]
  },
  {
   "cell_type": "code",
   "execution_count": 12,
   "metadata": {},
   "outputs": [
    {
     "output_type": "stream",
     "name": "stdout",
     "text": [
      "Index(['ACCTID', 'ACCTTYPE', 'ACCTNAME', 'FIRSTNAME', 'SURNAME', 'DOB',\n       'ACCTCREATED', 'ACCTRISK', 'ADDRESS', 'ADDRESS_LAT', 'ADDRESS_LON',\n       'CATEGORY'],\n      dtype='object')\nIndex(['TXN_ID', 'TXTYPE', 'AMOUNT', 'FROMACCTID', 'TOACCTID', 'TXDATE',\n       'REFERENCE', 'ISFRAUD', 'ISFLAGGED'],\n      dtype='object')\n"
     ]
    }
   ],
   "source": [
    "print(faccount_df.columns)\n",
    "print(ftxn2_df.columns)"
   ]
  },
  {
   "source": [
    "#account types\n",
    "print(faccount_df[\"ACCTTYPE\"].unique())\n",
    "\n",
    "#account categories\n",
    "print(faccount_df[\"CATEGORY\"].unique())\n"
   ],
   "cell_type": "code",
   "metadata": {},
   "execution_count": 29,
   "outputs": [
    {
     "output_type": "stream",
     "name": "stdout",
     "text": [
      "['BUSINESS' 'CREDIT' 'MAXI-SAVER' 'SAVINGS']\n['Supermarket' 'Grocery' 'Cafe' 'Bakery' 'Hotel' 'Restaurant' 'Builders'\n 'Lawyers' 'Crash Repairs' 'Apparel' 'Smallgoods' 'Property' 'Cleaning'\n 'Gardening' 'Electrical' 'Wholesale' 'Events' 'Computers' 'Clinic'\n 'Winery' 'Roasters' 'Pottery' 'Therapeutics' 'Fitness' 'Physiotherapy'\n 'Beauty' 'Podiatry' 'Florist' 'Finance' 'Sports' 'Brewery' 'Used Cars'\n 'Garage' 'Pharmacy' 'Butcher' 'Consulting' 'Distillery' 'Cheeses'\n 'Management' 'Services' 'Childcare' 'Digital' 'Accounting' 'Salamis'\n 'Trading' 'Music' 'CUSTOMER']\n"
     ]
    }
   ]
  },
  {
   "cell_type": "code",
   "execution_count": 52,
   "metadata": {},
   "outputs": [
    {
     "output_type": "execute_result",
     "data": {
      "text/plain": [
       "      ACCTID ACCTTYPE             ACCTNAME FIRSTNAME  SURNAME  \\\n",
       "21    800060   CREDIT  Johnson Supermarket   Shannon  Johnson   \n",
       "1718  500956   CREDIT     Johnson, Shannon   Shannon  Johnson   \n",
       "\n",
       "                      DOB          ACCTCREATED ACCTRISK   ADDRESS  \\\n",
       "21    1990-11-30T00:00:00  2018-11-18T00:00:00      LOW  BRISBANE   \n",
       "1718  1985-09-13T00:00:00  2015-08-25T00:00:00      LOW  BRISBANE   \n",
       "\n",
       "      ADDRESS_LAT  ADDRESS_LON     CATEGORY         FULLNAME  \\\n",
       "21     -27.538038   152.959944  Supermarket  Shannon Johnson   \n",
       "1718   -27.441138   153.020408     CUSTOMER  Shannon Johnson   \n",
       "\n",
       "      same_person_count  \n",
       "21                    2  \n",
       "1718                  2  "
      ],
      "text/html": "<div>\n<style scoped>\n    .dataframe tbody tr th:only-of-type {\n        vertical-align: middle;\n    }\n\n    .dataframe tbody tr th {\n        vertical-align: top;\n    }\n\n    .dataframe thead th {\n        text-align: right;\n    }\n</style>\n<table border=\"1\" class=\"dataframe\">\n  <thead>\n    <tr style=\"text-align: right;\">\n      <th></th>\n      <th>ACCTID</th>\n      <th>ACCTTYPE</th>\n      <th>ACCTNAME</th>\n      <th>FIRSTNAME</th>\n      <th>SURNAME</th>\n      <th>DOB</th>\n      <th>ACCTCREATED</th>\n      <th>ACCTRISK</th>\n      <th>ADDRESS</th>\n      <th>ADDRESS_LAT</th>\n      <th>ADDRESS_LON</th>\n      <th>CATEGORY</th>\n      <th>FULLNAME</th>\n      <th>same_person_count</th>\n    </tr>\n  </thead>\n  <tbody>\n    <tr>\n      <th>21</th>\n      <td>800060</td>\n      <td>CREDIT</td>\n      <td>Johnson Supermarket</td>\n      <td>Shannon</td>\n      <td>Johnson</td>\n      <td>1990-11-30T00:00:00</td>\n      <td>2018-11-18T00:00:00</td>\n      <td>LOW</td>\n      <td>BRISBANE</td>\n      <td>-27.538038</td>\n      <td>152.959944</td>\n      <td>Supermarket</td>\n      <td>Shannon Johnson</td>\n      <td>2</td>\n    </tr>\n    <tr>\n      <th>1718</th>\n      <td>500956</td>\n      <td>CREDIT</td>\n      <td>Johnson, Shannon</td>\n      <td>Shannon</td>\n      <td>Johnson</td>\n      <td>1985-09-13T00:00:00</td>\n      <td>2015-08-25T00:00:00</td>\n      <td>LOW</td>\n      <td>BRISBANE</td>\n      <td>-27.441138</td>\n      <td>153.020408</td>\n      <td>CUSTOMER</td>\n      <td>Shannon Johnson</td>\n      <td>2</td>\n    </tr>\n  </tbody>\n</table>\n</div>"
     },
     "metadata": {},
     "execution_count": 52
    }
   ],
   "source": [
    "faccount_df['FULLNAME'] = faccount_df['FIRSTNAME']+\" \"+faccount_df['SURNAME']\n",
    "\n",
    "#count the number of time a person created an account\n",
    "faccount_df['same_person_count'] = faccount_df.groupby('FULLNAME')['FULLNAME'].transform('count')\n",
    "\n"
   ]
  },
  {
   "cell_type": "code",
   "execution_count": 33,
   "metadata": {
    "tags": []
   },
   "outputs": [
    {
     "output_type": "execute_result",
     "data": {
      "text/plain": [
       "         TXN_ID    TXTYPE  AMOUNT  FROMACCTID  TOACCTID               TXDATE  \\\n",
       "0  950060711303   PAYMENT     320      500607    800242  2020-01-22T17:00:00   \n",
       "1  950060711401   PAYMENT      48      500607    800111  2020-01-23T08:00:00   \n",
       "2  950060711402  TRANSFER    6209      500607    500929  2020-01-23T13:00:00   \n",
       "3  950060711403   PAYMENT      66      500607    800252  2020-01-23T17:00:00   \n",
       "4  950060711501   PAYMENT      47      500607    800116  2020-01-24T08:00:00   \n",
       "\n",
       "               REFERENCE ISFRAUD ISFLAGGED         FROMNAME           TONAME  \n",
       "0      Dinner with Shane       N         Y  Elizabeth Smith  Taylor Marshall  \n",
       "1  Breakfast with Steven       N         Y  Elizabeth Smith   Johnny Johnson  \n",
       "2           Holiday Cost       N         Y  Elizabeth Smith    Amanda Harper  \n",
       "3         Meal with Mary       N         Y  Elizabeth Smith   Anthony Austin  \n",
       "4      Coffee with Brian       N         Y  Elizabeth Smith    William Baker  "
      ],
      "text/html": "<div>\n<style scoped>\n    .dataframe tbody tr th:only-of-type {\n        vertical-align: middle;\n    }\n\n    .dataframe tbody tr th {\n        vertical-align: top;\n    }\n\n    .dataframe thead th {\n        text-align: right;\n    }\n</style>\n<table border=\"1\" class=\"dataframe\">\n  <thead>\n    <tr style=\"text-align: right;\">\n      <th></th>\n      <th>TXN_ID</th>\n      <th>TXTYPE</th>\n      <th>AMOUNT</th>\n      <th>FROMACCTID</th>\n      <th>TOACCTID</th>\n      <th>TXDATE</th>\n      <th>REFERENCE</th>\n      <th>ISFRAUD</th>\n      <th>ISFLAGGED</th>\n      <th>FROMNAME</th>\n      <th>TONAME</th>\n    </tr>\n  </thead>\n  <tbody>\n    <tr>\n      <th>0</th>\n      <td>950060711303</td>\n      <td>PAYMENT</td>\n      <td>320</td>\n      <td>500607</td>\n      <td>800242</td>\n      <td>2020-01-22T17:00:00</td>\n      <td>Dinner with Shane</td>\n      <td>N</td>\n      <td>Y</td>\n      <td>Elizabeth Smith</td>\n      <td>Taylor Marshall</td>\n    </tr>\n    <tr>\n      <th>1</th>\n      <td>950060711401</td>\n      <td>PAYMENT</td>\n      <td>48</td>\n      <td>500607</td>\n      <td>800111</td>\n      <td>2020-01-23T08:00:00</td>\n      <td>Breakfast with Steven</td>\n      <td>N</td>\n      <td>Y</td>\n      <td>Elizabeth Smith</td>\n      <td>Johnny Johnson</td>\n    </tr>\n    <tr>\n      <th>2</th>\n      <td>950060711402</td>\n      <td>TRANSFER</td>\n      <td>6209</td>\n      <td>500607</td>\n      <td>500929</td>\n      <td>2020-01-23T13:00:00</td>\n      <td>Holiday Cost</td>\n      <td>N</td>\n      <td>Y</td>\n      <td>Elizabeth Smith</td>\n      <td>Amanda Harper</td>\n    </tr>\n    <tr>\n      <th>3</th>\n      <td>950060711403</td>\n      <td>PAYMENT</td>\n      <td>66</td>\n      <td>500607</td>\n      <td>800252</td>\n      <td>2020-01-23T17:00:00</td>\n      <td>Meal with Mary</td>\n      <td>N</td>\n      <td>Y</td>\n      <td>Elizabeth Smith</td>\n      <td>Anthony Austin</td>\n    </tr>\n    <tr>\n      <th>4</th>\n      <td>950060711501</td>\n      <td>PAYMENT</td>\n      <td>47</td>\n      <td>500607</td>\n      <td>800116</td>\n      <td>2020-01-24T08:00:00</td>\n      <td>Coffee with Brian</td>\n      <td>N</td>\n      <td>Y</td>\n      <td>Elizabeth Smith</td>\n      <td>William Baker</td>\n    </tr>\n  </tbody>\n</table>\n</div>"
     },
     "metadata": {},
     "execution_count": 33
    }
   ],
   "source": [
    "def id_to_name(id,id_name_dict):\n",
    "    return id_name_dict[\"FULLNAME\"][int(id)]\n",
    "\n",
    "\n",
    "id_and_names = faccount_df[[\"ACCTID\",\"FULLNAME\"]].set_index(\"ACCTID\").to_dict()\n",
    "\n",
    "\n",
    "ftxn2_df[\"FROMNAME\"] = np.vectorize(id_to_name)(ftxn2_df[\"FROMACCTID\"], id_and_names)\n",
    "ftxn2_df[\"TONAME\"] = np.vectorize(id_to_name)(ftxn2_df[\"TOACCTID\"], id_and_names)\n",
    "\n",
    "\n",
    "ftxn2_df.head()"
   ]
  },
  {
   "cell_type": "code",
   "execution_count": null,
   "metadata": {},
   "outputs": [],
   "source": []
  },
  {
   "cell_type": "code",
   "execution_count": null,
   "metadata": {},
   "outputs": [],
   "source": []
  }
 ]
}