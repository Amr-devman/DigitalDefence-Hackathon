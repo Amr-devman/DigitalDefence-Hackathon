{
 "metadata": {
  "language_info": {
   "codemirror_mode": {
    "name": "ipython",
    "version": 3
   },
   "file_extension": ".py",
   "mimetype": "text/x-python",
   "name": "python",
   "nbconvert_exporter": "python",
   "pygments_lexer": "ipython3",
   "version": "3.6.9-final"
  },
  "orig_nbformat": 2,
  "kernelspec": {
   "name": "python3",
   "display_name": "Python 3"
  }
 },
 "nbformat": 4,
 "nbformat_minor": 2,
 "cells": [
  {
   "cell_type": "code",
   "execution_count": 1,
   "metadata": {},
   "outputs": [],
   "source": [
    "import pandas as pd \n",
    "import numpy as np \n",
    "import seaborn as sns\n",
    "import matplotlib.pyplot as plt\n",
    "from scipy.stats import zscore\n"
   ]
  },
  {
   "cell_type": "code",
   "execution_count": 2,
   "metadata": {},
   "outputs": [],
   "source": [
    "ftxn2_pred_df = pd.read_csv(\"./dataset/ftxn2_predicted.txt\")"
   ]
  },
  {
   "cell_type": "code",
   "execution_count": 7,
   "metadata": {},
   "outputs": [
    {
     "output_type": "execute_result",
     "data": {
      "text/plain": [
       "         Unnamed: 0  AMOUNT  FROMACCTID  TOACCTID ISFRAUD\n",
       "14               14     637      500606    500979       Y\n",
       "20               20    9019      500606    500585       Y\n",
       "26               26    9525      500606    500880       Y\n",
       "42               42     497      500606    800214       Y\n",
       "44               44    9334      500606    500342       Y\n",
       "...             ...     ...         ...       ...     ...\n",
       "1533058     1533058    4417      501340    501024       Y\n",
       "1533059     1533059     391      501340    800293       Y\n",
       "1533061     1533061    9159      501340    500730       Y\n",
       "1533062     1533062     323      501340    800201       Y\n",
       "1533064     1533064    3997      501340    501193       Y\n",
       "\n",
       "[344060 rows x 5 columns]"
      ],
      "text/html": "<div>\n<style scoped>\n    .dataframe tbody tr th:only-of-type {\n        vertical-align: middle;\n    }\n\n    .dataframe tbody tr th {\n        vertical-align: top;\n    }\n\n    .dataframe thead th {\n        text-align: right;\n    }\n</style>\n<table border=\"1\" class=\"dataframe\">\n  <thead>\n    <tr style=\"text-align: right;\">\n      <th></th>\n      <th>Unnamed: 0</th>\n      <th>AMOUNT</th>\n      <th>FROMACCTID</th>\n      <th>TOACCTID</th>\n      <th>ISFRAUD</th>\n    </tr>\n  </thead>\n  <tbody>\n    <tr>\n      <th>14</th>\n      <td>14</td>\n      <td>637</td>\n      <td>500606</td>\n      <td>500979</td>\n      <td>Y</td>\n    </tr>\n    <tr>\n      <th>20</th>\n      <td>20</td>\n      <td>9019</td>\n      <td>500606</td>\n      <td>500585</td>\n      <td>Y</td>\n    </tr>\n    <tr>\n      <th>26</th>\n      <td>26</td>\n      <td>9525</td>\n      <td>500606</td>\n      <td>500880</td>\n      <td>Y</td>\n    </tr>\n    <tr>\n      <th>42</th>\n      <td>42</td>\n      <td>497</td>\n      <td>500606</td>\n      <td>800214</td>\n      <td>Y</td>\n    </tr>\n    <tr>\n      <th>44</th>\n      <td>44</td>\n      <td>9334</td>\n      <td>500606</td>\n      <td>500342</td>\n      <td>Y</td>\n    </tr>\n    <tr>\n      <th>...</th>\n      <td>...</td>\n      <td>...</td>\n      <td>...</td>\n      <td>...</td>\n      <td>...</td>\n    </tr>\n    <tr>\n      <th>1533058</th>\n      <td>1533058</td>\n      <td>4417</td>\n      <td>501340</td>\n      <td>501024</td>\n      <td>Y</td>\n    </tr>\n    <tr>\n      <th>1533059</th>\n      <td>1533059</td>\n      <td>391</td>\n      <td>501340</td>\n      <td>800293</td>\n      <td>Y</td>\n    </tr>\n    <tr>\n      <th>1533061</th>\n      <td>1533061</td>\n      <td>9159</td>\n      <td>501340</td>\n      <td>500730</td>\n      <td>Y</td>\n    </tr>\n    <tr>\n      <th>1533062</th>\n      <td>1533062</td>\n      <td>323</td>\n      <td>501340</td>\n      <td>800201</td>\n      <td>Y</td>\n    </tr>\n    <tr>\n      <th>1533064</th>\n      <td>1533064</td>\n      <td>3997</td>\n      <td>501340</td>\n      <td>501193</td>\n      <td>Y</td>\n    </tr>\n  </tbody>\n</table>\n<p>344060 rows × 5 columns</p>\n</div>"
     },
     "metadata": {},
     "execution_count": 7
    }
   ],
   "source": [
    "ftxn2_pred_df[ftxn2_pred_df[\"ISFRAUD\"] == 'Y']\n",
    "\n",
    "# print(len(ftxn2_pred_df[ftxn2_pred_df[\"ISFRAUD\"] == 'Y'])/len(ftxn2_pred_df))"
   ]
  },
  {
   "cell_type": "code",
   "execution_count": null,
   "metadata": {},
   "outputs": [],
   "source": []
  }
 ]
}