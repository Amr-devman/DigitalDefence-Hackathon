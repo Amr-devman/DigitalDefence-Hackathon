{
 "metadata": {
  "language_info": {
   "codemirror_mode": {
    "name": "ipython",
    "version": 3
   },
   "file_extension": ".py",
   "mimetype": "text/x-python",
   "name": "python",
   "nbconvert_exporter": "python",
   "pygments_lexer": "ipython3",
   "version": "3.6.9-final"
  },
  "orig_nbformat": 2,
  "kernelspec": {
   "name": "python3",
   "display_name": "Python 3.6.9 64-bit ('.dighack-env': virtualenv)",
   "metadata": {
    "interpreter": {
     "hash": "03554de59b495849a0a76a5fece73ce8f402295b1b7db34bc648918aca312b29"
    }
   }
  }
 },
 "nbformat": 4,
 "nbformat_minor": 2,
 "cells": [
  {
   "cell_type": "code",
   "execution_count": 1,
   "metadata": {},
   "outputs": [],
   "source": [
    "import pandas as pd \n",
    "import numpy as np \n",
    "import seaborn as sns\n",
    "import matplotlib.pyplot as plt\n",
    "from scipy.stats import zscore\n"
   ]
  },
  {
   "cell_type": "code",
   "execution_count": 93,
   "metadata": {},
   "outputs": [],
   "source": [
    "faccount_df = pd.read_csv(\"./dataset/faccount.txt\")\n",
    "ftxn2_df = pd.read_csv(\"./dataset/ftxn2.txt\")"
   ]
  },
  {
   "cell_type": "code",
   "execution_count": 97,
   "metadata": {},
   "outputs": [
    {
     "output_type": "execute_result",
     "data": {
      "text/plain": [
       "         TXN_ID    TXTYPE  AMOUNT  FROMACCTID  TOACCTID               TXDATE  \\\n",
       "0  950060711303   PAYMENT     320      500607    800242  2020-01-22T17:00:00   \n",
       "1  950060711401   PAYMENT      48      500607    800111  2020-01-23T08:00:00   \n",
       "2  950060711402  TRANSFER    6209      500607    500929  2020-01-23T13:00:00   \n",
       "3  950060711403   PAYMENT      66      500607    800252  2020-01-23T17:00:00   \n",
       "4  950060711501   PAYMENT      47      500607    800116  2020-01-24T08:00:00   \n",
       "\n",
       "               REFERENCE ISFRAUD ISFLAGGED  \n",
       "0      Dinner with Shane       N         Y  \n",
       "1  Breakfast with Steven       N         Y  \n",
       "2           Holiday Cost       N         Y  \n",
       "3         Meal with Mary       N         Y  \n",
       "4      Coffee with Brian       N         Y  "
      ],
      "text/html": "<div>\n<style scoped>\n    .dataframe tbody tr th:only-of-type {\n        vertical-align: middle;\n    }\n\n    .dataframe tbody tr th {\n        vertical-align: top;\n    }\n\n    .dataframe thead th {\n        text-align: right;\n    }\n</style>\n<table border=\"1\" class=\"dataframe\">\n  <thead>\n    <tr style=\"text-align: right;\">\n      <th></th>\n      <th>TXN_ID</th>\n      <th>TXTYPE</th>\n      <th>AMOUNT</th>\n      <th>FROMACCTID</th>\n      <th>TOACCTID</th>\n      <th>TXDATE</th>\n      <th>REFERENCE</th>\n      <th>ISFRAUD</th>\n      <th>ISFLAGGED</th>\n    </tr>\n  </thead>\n  <tbody>\n    <tr>\n      <th>0</th>\n      <td>950060711303</td>\n      <td>PAYMENT</td>\n      <td>320</td>\n      <td>500607</td>\n      <td>800242</td>\n      <td>2020-01-22T17:00:00</td>\n      <td>Dinner with Shane</td>\n      <td>N</td>\n      <td>Y</td>\n    </tr>\n    <tr>\n      <th>1</th>\n      <td>950060711401</td>\n      <td>PAYMENT</td>\n      <td>48</td>\n      <td>500607</td>\n      <td>800111</td>\n      <td>2020-01-23T08:00:00</td>\n      <td>Breakfast with Steven</td>\n      <td>N</td>\n      <td>Y</td>\n    </tr>\n    <tr>\n      <th>2</th>\n      <td>950060711402</td>\n      <td>TRANSFER</td>\n      <td>6209</td>\n      <td>500607</td>\n      <td>500929</td>\n      <td>2020-01-23T13:00:00</td>\n      <td>Holiday Cost</td>\n      <td>N</td>\n      <td>Y</td>\n    </tr>\n    <tr>\n      <th>3</th>\n      <td>950060711403</td>\n      <td>PAYMENT</td>\n      <td>66</td>\n      <td>500607</td>\n      <td>800252</td>\n      <td>2020-01-23T17:00:00</td>\n      <td>Meal with Mary</td>\n      <td>N</td>\n      <td>Y</td>\n    </tr>\n    <tr>\n      <th>4</th>\n      <td>950060711501</td>\n      <td>PAYMENT</td>\n      <td>47</td>\n      <td>500607</td>\n      <td>800116</td>\n      <td>2020-01-24T08:00:00</td>\n      <td>Coffee with Brian</td>\n      <td>N</td>\n      <td>Y</td>\n    </tr>\n  </tbody>\n</table>\n</div>"
     },
     "metadata": {},
     "execution_count": 97
    }
   ],
   "source": [
    "ftxn2_df.head()"
   ]
  },
  {
   "cell_type": "code",
   "execution_count": 98,
   "metadata": {},
   "outputs": [
    {
     "output_type": "stream",
     "name": "stdout",
     "text": [
      "Index(['ACCTID', 'ACCTTYPE', 'ACCTNAME', 'FIRSTNAME', 'SURNAME', 'DOB',\n       'ACCTCREATED', 'ACCTRISK', 'ADDRESS', 'ADDRESS_LAT', 'ADDRESS_LON',\n       'CATEGORY'],\n      dtype='object')\nIndex(['TXN_ID', 'TXTYPE', 'AMOUNT', 'FROMACCTID', 'TOACCTID', 'TXDATE',\n       'REFERENCE', 'ISFRAUD', 'ISFLAGGED'],\n      dtype='object')\n"
     ]
    }
   ],
   "source": [
    "print(faccount_df.columns)\n",
    "print(ftxn2_df.columns)"
   ]
  },
  {
   "cell_type": "code",
   "execution_count": 99,
   "metadata": {},
   "outputs": [
    {
     "output_type": "execute_result",
     "data": {
      "text/plain": [
       "   ACCTID  ACCTTYPE              ACCTNAME FIRSTNAME   SURNAME  \\\n",
       "0  800039  BUSINESS     Young Supermarket     Kevin     Young   \n",
       "1  800040  BUSINESS      Williams Grocery   Lindsay  Williams   \n",
       "2  800041    CREDIT     Myers Supermarket      Lisa     Myers   \n",
       "3  800042  BUSINESS  Martinez Supermarket  Brittany  Martinez   \n",
       "4  800043    CREDIT        Taylor Grocery     David    Taylor   \n",
       "\n",
       "                   DOB          ACCTCREATED ACCTRISK   ADDRESS  ADDRESS_LAT  \\\n",
       "0  1982-02-23T00:00:00  2018-09-20T00:00:00   MEDIUM  BRISBANE   -27.512179   \n",
       "1  1959-02-20T00:00:00  2018-02-24T00:00:00   MEDIUM  BRISBANE   -27.504303   \n",
       "2  1982-09-04T00:00:00  2018-01-11T00:00:00     HIGH  BRISBANE   -27.484970   \n",
       "3  1976-10-11T00:00:00  2018-12-04T00:00:00   MEDIUM  BRISBANE   -27.402357   \n",
       "4  1978-01-23T00:00:00  2019-07-15T00:00:00   MEDIUM  BRISBANE   -27.473628   \n",
       "\n",
       "   ADDRESS_LON     CATEGORY           FULLNAME  \n",
       "0   153.073105  Supermarket        Kevin Young  \n",
       "1   153.073470      Grocery   Lindsay Williams  \n",
       "2   153.097588  Supermarket         Lisa Myers  \n",
       "3   153.056983  Supermarket  Brittany Martinez  \n",
       "4   152.955089      Grocery       David Taylor  "
      ],
      "text/html": "<div>\n<style scoped>\n    .dataframe tbody tr th:only-of-type {\n        vertical-align: middle;\n    }\n\n    .dataframe tbody tr th {\n        vertical-align: top;\n    }\n\n    .dataframe thead th {\n        text-align: right;\n    }\n</style>\n<table border=\"1\" class=\"dataframe\">\n  <thead>\n    <tr style=\"text-align: right;\">\n      <th></th>\n      <th>ACCTID</th>\n      <th>ACCTTYPE</th>\n      <th>ACCTNAME</th>\n      <th>FIRSTNAME</th>\n      <th>SURNAME</th>\n      <th>DOB</th>\n      <th>ACCTCREATED</th>\n      <th>ACCTRISK</th>\n      <th>ADDRESS</th>\n      <th>ADDRESS_LAT</th>\n      <th>ADDRESS_LON</th>\n      <th>CATEGORY</th>\n      <th>FULLNAME</th>\n    </tr>\n  </thead>\n  <tbody>\n    <tr>\n      <th>0</th>\n      <td>800039</td>\n      <td>BUSINESS</td>\n      <td>Young Supermarket</td>\n      <td>Kevin</td>\n      <td>Young</td>\n      <td>1982-02-23T00:00:00</td>\n      <td>2018-09-20T00:00:00</td>\n      <td>MEDIUM</td>\n      <td>BRISBANE</td>\n      <td>-27.512179</td>\n      <td>153.073105</td>\n      <td>Supermarket</td>\n      <td>Kevin Young</td>\n    </tr>\n    <tr>\n      <th>1</th>\n      <td>800040</td>\n      <td>BUSINESS</td>\n      <td>Williams Grocery</td>\n      <td>Lindsay</td>\n      <td>Williams</td>\n      <td>1959-02-20T00:00:00</td>\n      <td>2018-02-24T00:00:00</td>\n      <td>MEDIUM</td>\n      <td>BRISBANE</td>\n      <td>-27.504303</td>\n      <td>153.073470</td>\n      <td>Grocery</td>\n      <td>Lindsay Williams</td>\n    </tr>\n    <tr>\n      <th>2</th>\n      <td>800041</td>\n      <td>CREDIT</td>\n      <td>Myers Supermarket</td>\n      <td>Lisa</td>\n      <td>Myers</td>\n      <td>1982-09-04T00:00:00</td>\n      <td>2018-01-11T00:00:00</td>\n      <td>HIGH</td>\n      <td>BRISBANE</td>\n      <td>-27.484970</td>\n      <td>153.097588</td>\n      <td>Supermarket</td>\n      <td>Lisa Myers</td>\n    </tr>\n    <tr>\n      <th>3</th>\n      <td>800042</td>\n      <td>BUSINESS</td>\n      <td>Martinez Supermarket</td>\n      <td>Brittany</td>\n      <td>Martinez</td>\n      <td>1976-10-11T00:00:00</td>\n      <td>2018-12-04T00:00:00</td>\n      <td>MEDIUM</td>\n      <td>BRISBANE</td>\n      <td>-27.402357</td>\n      <td>153.056983</td>\n      <td>Supermarket</td>\n      <td>Brittany Martinez</td>\n    </tr>\n    <tr>\n      <th>4</th>\n      <td>800043</td>\n      <td>CREDIT</td>\n      <td>Taylor Grocery</td>\n      <td>David</td>\n      <td>Taylor</td>\n      <td>1978-01-23T00:00:00</td>\n      <td>2019-07-15T00:00:00</td>\n      <td>MEDIUM</td>\n      <td>BRISBANE</td>\n      <td>-27.473628</td>\n      <td>152.955089</td>\n      <td>Grocery</td>\n      <td>David Taylor</td>\n    </tr>\n  </tbody>\n</table>\n</div>"
     },
     "metadata": {},
     "execution_count": 99
    }
   ],
   "source": [
    "faccount_df['FULLNAME'] = faccount_df['FIRSTNAME']+\" \"+faccount_df['SURNAME']\n",
    "faccount_df.head()"
   ]
  },
  {
   "cell_type": "code",
   "execution_count": 106,
   "metadata": {
    "tags": []
   },
   "outputs": [
    {
     "output_type": "error",
     "ename": "KeyError",
     "evalue": "500607",
     "traceback": [
      "\u001b[0;31m---------------------------------------------------------------------------\u001b[0m",
      "\u001b[0;31mKeyError\u001b[0m                                  Traceback (most recent call last)",
      "\u001b[0;32m<ipython-input-106-b7d175be7868>\u001b[0m in \u001b[0;36m<module>\u001b[0;34m\u001b[0m\n\u001b[1;32m      7\u001b[0m \u001b[0mresults\u001b[0m \u001b[0;34m=\u001b[0m \u001b[0mpd\u001b[0m\u001b[0;34m.\u001b[0m\u001b[0mDataFrame\u001b[0m\u001b[0;34m(\u001b[0m\u001b[0mcolumns\u001b[0m\u001b[0;34m=\u001b[0m\u001b[0;34m[\u001b[0m\u001b[0;34m\"FROMNAME\"\u001b[0m\u001b[0;34m,\u001b[0m \u001b[0;34m\"TONAME\"\u001b[0m\u001b[0;34m]\u001b[0m\u001b[0;34m)\u001b[0m\u001b[0;34m\u001b[0m\u001b[0;34m\u001b[0m\u001b[0m\n\u001b[1;32m      8\u001b[0m \u001b[0;34m\u001b[0m\u001b[0m\n\u001b[0;32m----> 9\u001b[0;31m \u001b[0mresults\u001b[0m\u001b[0;34m[\u001b[0m\u001b[0;34m\"FROMNAME\"\u001b[0m\u001b[0;34m]\u001b[0m \u001b[0;34m=\u001b[0m \u001b[0mnp\u001b[0m\u001b[0;34m.\u001b[0m\u001b[0mvectorize\u001b[0m\u001b[0;34m(\u001b[0m\u001b[0mid_to_name\u001b[0m\u001b[0;34m)\u001b[0m\u001b[0;34m(\u001b[0m\u001b[0mftxn2_df\u001b[0m\u001b[0;34m[\u001b[0m\u001b[0;34m\"FROMACCTID\"\u001b[0m\u001b[0;34m]\u001b[0m\u001b[0;34m,\u001b[0m \u001b[0mid_and_names\u001b[0m\u001b[0;34m)\u001b[0m\u001b[0;34m\u001b[0m\u001b[0;34m\u001b[0m\u001b[0m\n\u001b[0m\u001b[1;32m     10\u001b[0m \u001b[0mresults\u001b[0m\u001b[0;34m[\u001b[0m\u001b[0;34m\"TONAME\"\u001b[0m\u001b[0;34m]\u001b[0m \u001b[0;34m=\u001b[0m \u001b[0mnp\u001b[0m\u001b[0;34m.\u001b[0m\u001b[0mvectorize\u001b[0m\u001b[0;34m(\u001b[0m\u001b[0mid_to_name\u001b[0m\u001b[0;34m)\u001b[0m\u001b[0;34m(\u001b[0m\u001b[0mftxn2_df\u001b[0m\u001b[0;34m[\u001b[0m\u001b[0;34m\"TOACCTID\"\u001b[0m\u001b[0;34m]\u001b[0m\u001b[0;34m,\u001b[0m \u001b[0mid_and_names\u001b[0m\u001b[0;34m)\u001b[0m\u001b[0;34m\u001b[0m\u001b[0;34m\u001b[0m\u001b[0m\n\u001b[1;32m     11\u001b[0m \u001b[0;34m\u001b[0m\u001b[0m\n",
      "\u001b[0;32m~/DigitalDefence-Hackathon/.dighack-env/lib/python3.6/site-packages/numpy/lib/function_base.py\u001b[0m in \u001b[0;36m__call__\u001b[0;34m(self, *args, **kwargs)\u001b[0m\n\u001b[1;32m   2106\u001b[0m             \u001b[0mvargs\u001b[0m\u001b[0;34m.\u001b[0m\u001b[0mextend\u001b[0m\u001b[0;34m(\u001b[0m\u001b[0;34m[\u001b[0m\u001b[0mkwargs\u001b[0m\u001b[0;34m[\u001b[0m\u001b[0m_n\u001b[0m\u001b[0;34m]\u001b[0m \u001b[0;32mfor\u001b[0m \u001b[0m_n\u001b[0m \u001b[0;32min\u001b[0m \u001b[0mnames\u001b[0m\u001b[0;34m]\u001b[0m\u001b[0;34m)\u001b[0m\u001b[0;34m\u001b[0m\u001b[0;34m\u001b[0m\u001b[0m\n\u001b[1;32m   2107\u001b[0m \u001b[0;34m\u001b[0m\u001b[0m\n\u001b[0;32m-> 2108\u001b[0;31m         \u001b[0;32mreturn\u001b[0m \u001b[0mself\u001b[0m\u001b[0;34m.\u001b[0m\u001b[0m_vectorize_call\u001b[0m\u001b[0;34m(\u001b[0m\u001b[0mfunc\u001b[0m\u001b[0;34m=\u001b[0m\u001b[0mfunc\u001b[0m\u001b[0;34m,\u001b[0m \u001b[0margs\u001b[0m\u001b[0;34m=\u001b[0m\u001b[0mvargs\u001b[0m\u001b[0;34m)\u001b[0m\u001b[0;34m\u001b[0m\u001b[0;34m\u001b[0m\u001b[0m\n\u001b[0m\u001b[1;32m   2109\u001b[0m \u001b[0;34m\u001b[0m\u001b[0m\n\u001b[1;32m   2110\u001b[0m     \u001b[0;32mdef\u001b[0m \u001b[0m_get_ufunc_and_otypes\u001b[0m\u001b[0;34m(\u001b[0m\u001b[0mself\u001b[0m\u001b[0;34m,\u001b[0m \u001b[0mfunc\u001b[0m\u001b[0;34m,\u001b[0m \u001b[0margs\u001b[0m\u001b[0;34m)\u001b[0m\u001b[0;34m:\u001b[0m\u001b[0;34m\u001b[0m\u001b[0;34m\u001b[0m\u001b[0m\n",
      "\u001b[0;32m~/DigitalDefence-Hackathon/.dighack-env/lib/python3.6/site-packages/numpy/lib/function_base.py\u001b[0m in \u001b[0;36m_vectorize_call\u001b[0;34m(self, func, args)\u001b[0m\n\u001b[1;32m   2184\u001b[0m             \u001b[0mres\u001b[0m \u001b[0;34m=\u001b[0m \u001b[0mfunc\u001b[0m\u001b[0;34m(\u001b[0m\u001b[0;34m)\u001b[0m\u001b[0;34m\u001b[0m\u001b[0;34m\u001b[0m\u001b[0m\n\u001b[1;32m   2185\u001b[0m         \u001b[0;32melse\u001b[0m\u001b[0;34m:\u001b[0m\u001b[0;34m\u001b[0m\u001b[0;34m\u001b[0m\u001b[0m\n\u001b[0;32m-> 2186\u001b[0;31m             \u001b[0mufunc\u001b[0m\u001b[0;34m,\u001b[0m \u001b[0motypes\u001b[0m \u001b[0;34m=\u001b[0m \u001b[0mself\u001b[0m\u001b[0;34m.\u001b[0m\u001b[0m_get_ufunc_and_otypes\u001b[0m\u001b[0;34m(\u001b[0m\u001b[0mfunc\u001b[0m\u001b[0;34m=\u001b[0m\u001b[0mfunc\u001b[0m\u001b[0;34m,\u001b[0m \u001b[0margs\u001b[0m\u001b[0;34m=\u001b[0m\u001b[0margs\u001b[0m\u001b[0;34m)\u001b[0m\u001b[0;34m\u001b[0m\u001b[0;34m\u001b[0m\u001b[0m\n\u001b[0m\u001b[1;32m   2187\u001b[0m \u001b[0;34m\u001b[0m\u001b[0m\n\u001b[1;32m   2188\u001b[0m             \u001b[0;31m# Convert args to object arrays first\u001b[0m\u001b[0;34m\u001b[0m\u001b[0;34m\u001b[0m\u001b[0;34m\u001b[0m\u001b[0m\n",
      "\u001b[0;32m~/DigitalDefence-Hackathon/.dighack-env/lib/python3.6/site-packages/numpy/lib/function_base.py\u001b[0m in \u001b[0;36m_get_ufunc_and_otypes\u001b[0;34m(self, func, args)\u001b[0m\n\u001b[1;32m   2144\u001b[0m \u001b[0;34m\u001b[0m\u001b[0m\n\u001b[1;32m   2145\u001b[0m             \u001b[0minputs\u001b[0m \u001b[0;34m=\u001b[0m \u001b[0;34m[\u001b[0m\u001b[0marg\u001b[0m\u001b[0;34m.\u001b[0m\u001b[0mflat\u001b[0m\u001b[0;34m[\u001b[0m\u001b[0;36m0\u001b[0m\u001b[0;34m]\u001b[0m \u001b[0;32mfor\u001b[0m \u001b[0marg\u001b[0m \u001b[0;32min\u001b[0m \u001b[0margs\u001b[0m\u001b[0;34m]\u001b[0m\u001b[0;34m\u001b[0m\u001b[0;34m\u001b[0m\u001b[0m\n\u001b[0;32m-> 2146\u001b[0;31m             \u001b[0moutputs\u001b[0m \u001b[0;34m=\u001b[0m \u001b[0mfunc\u001b[0m\u001b[0;34m(\u001b[0m\u001b[0;34m*\u001b[0m\u001b[0minputs\u001b[0m\u001b[0;34m)\u001b[0m\u001b[0;34m\u001b[0m\u001b[0;34m\u001b[0m\u001b[0m\n\u001b[0m\u001b[1;32m   2147\u001b[0m \u001b[0;34m\u001b[0m\u001b[0m\n\u001b[1;32m   2148\u001b[0m             \u001b[0;31m# Performance note: profiling indicates that -- for simple\u001b[0m\u001b[0;34m\u001b[0m\u001b[0;34m\u001b[0m\u001b[0;34m\u001b[0m\u001b[0m\n",
      "\u001b[0;32m<ipython-input-106-b7d175be7868>\u001b[0m in \u001b[0;36mid_to_name\u001b[0;34m(id, id_name_dict)\u001b[0m\n\u001b[1;32m      1\u001b[0m \u001b[0;32mdef\u001b[0m \u001b[0mid_to_name\u001b[0m\u001b[0;34m(\u001b[0m\u001b[0mid\u001b[0m\u001b[0;34m,\u001b[0m\u001b[0mid_name_dict\u001b[0m\u001b[0;34m)\u001b[0m\u001b[0;34m:\u001b[0m\u001b[0;34m\u001b[0m\u001b[0;34m\u001b[0m\u001b[0m\n\u001b[0;32m----> 2\u001b[0;31m     \u001b[0;32mreturn\u001b[0m \u001b[0mid_name_dict\u001b[0m\u001b[0;34m[\u001b[0m\u001b[0mid\u001b[0m\u001b[0;34m]\u001b[0m\u001b[0;34m\u001b[0m\u001b[0;34m\u001b[0m\u001b[0m\n\u001b[0m\u001b[1;32m      3\u001b[0m \u001b[0;34m\u001b[0m\u001b[0m\n\u001b[1;32m      4\u001b[0m \u001b[0;34m\u001b[0m\u001b[0m\n\u001b[1;32m      5\u001b[0m \u001b[0mid_and_names\u001b[0m \u001b[0;34m=\u001b[0m \u001b[0mfaccount_df\u001b[0m\u001b[0;34m[\u001b[0m\u001b[0;34m[\u001b[0m\u001b[0;34m\"ACCTID\"\u001b[0m\u001b[0;34m,\u001b[0m\u001b[0;34m\"FULLNAME\"\u001b[0m\u001b[0;34m]\u001b[0m\u001b[0;34m]\u001b[0m\u001b[0;34m.\u001b[0m\u001b[0mto_dict\u001b[0m\u001b[0;34m(\u001b[0m\u001b[0;34m)\u001b[0m\u001b[0;34m\u001b[0m\u001b[0;34m\u001b[0m\u001b[0m\n",
      "\u001b[0;31mKeyError\u001b[0m: 500607"
     ]
    }
   ],
   "source": [
    "def id_to_name(id,id_name_dict):\n",
    "    return id_name_dict[int(id)]\n",
    "\n",
    "\n",
    "id_and_names = faccount_df[[\"ACCTID\",\"FULLNAME\"]].to_dict()\n",
    "\n",
    "results = pd.DataFrame(columns=[\"FROMNAME\", \"TONAME\"])\n",
    "\n",
    "results[\"FROMNAME\"] = np.vectorize(id_to_name)(ftxn2_df[\"FROMACCTID\"], id_and_names)\n",
    "results[\"TONAME\"] = np.vectorize(id_to_name)(ftxn2_df[\"TOACCTID\"], id_and_names)\n",
    "\n",
    "results.head()\n",
    "\n",
    "# result_1 = ftxn2_df.merge(id_and_names, left_on=\"FROMACCTID\", right_on=\"ACCTID\")\n",
    "# result_1 = result_1.drop(columns=\"ACCTID\")\n",
    "# result_1 = result_1.rename(columns={\"FULLNAME\": \"FROMNAME\"})\n",
    "\n",
    "# result_2 = result_1.merge(id_and_names, left_on=\"TOACCTID\", right_on=\"ACCTID\")\n",
    "# result_2 = result_2.drop(columns=\"ACCTID\")\n",
    "# result_2 = result_2.rename(columns={\"FULLNAME\": \"TONAME\"})\n",
    "\n",
    "# result_2.head()\n"
   ]
  },
  {
   "cell_type": "code",
   "execution_count": null,
   "metadata": {},
   "outputs": [],
   "source": []
  }
 ]
}